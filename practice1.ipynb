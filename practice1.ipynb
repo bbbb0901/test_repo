{
 "cells": [
  {
   "cell_type": "markdown",
   "metadata": {},
   "source": [
    "# python_chapter1\n",
    "---\n",
    "\n",
    "### 2021-1 튜터링\n",
    "\n",
    "1. 세 자리 정수를 입력받고 이때 입력받은 정수 n에 대한 백의 자리, 십의 자리, 일의 자리 십진수 값을 다음과 같이 출력하시오.\n",
    "\n",
    "> 세 자리 정수를 입력하시오:349  \n",
    "> 백의 자리: 3  \n",
    "> 십의 자리: 4  \n",
    "> 일의 자리: 9"
   ]
  },
  {
   "cell_type": "markdown",
   "metadata": {},
   "source": [
    "2. 1~100의 합계를 최초로 1000이 넘게 하는 숫자 num을 **\"sum=0, num=0\"**을 사용하여 찾아보시오.\n",
    "\n",
    "- for문\n",
    "- while문\n",
    "    "
   ]
  },
  {
   "cell_type": "code",
   "execution_count": null,
   "metadata": {},
   "outputs": [],
   "source": []
  }
 ],
 "metadata": {
  "kernelspec": {
   "display_name": "Python 3",
   "language": "python",
   "name": "python3"
  },
  "language_info": {
   "codemirror_mode": {
    "name": "ipython",
    "version": 3
   },
   "file_extension": ".py",
   "mimetype": "text/x-python",
   "name": "python",
   "nbconvert_exporter": "python",
   "pygments_lexer": "ipython3",
   "version": "3.8.5"
  }
 },
 "nbformat": 4,
 "nbformat_minor": 4
}
